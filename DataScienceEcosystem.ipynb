{
 "cells": [
  {
   "cell_type": "markdown",
   "id": "006801a5",
   "metadata": {},
   "source": [
    "# Data Science Tools and Ecosystem"
   ]
  },
  {
   "cell_type": "markdown",
   "id": "905b0930",
   "metadata": {},
   "source": [
    "In this notebook, Data Science Tools and Ecosystem are summarized. This is part of my final assignment"
   ]
  },
  {
   "cell_type": "markdown",
   "id": "77469139",
   "metadata": {},
   "source": [
    "Some of the popular languages that Data Scientists use are:\n",
    "1. Python\n",
    "2. R\n",
    "3. Java\n",
    "4. Scala\n",
    "5. Julia\n",
    "6. C++\n",
    "7. SQL"
   ]
  },
  {
   "cell_type": "markdown",
   "id": "d0a4e779",
   "metadata": {},
   "source": [
    "Some of the commonly used libraries used by Data Scientists include:\n",
    "* TensorFlow\n",
    "* Scikit\n",
    "* Caffe\n",
    "* Pandas\n",
    "* NumPy\n",
    "* Keras\n"
   ]
  },
  {
   "cell_type": "markdown",
   "id": "d135bd36",
   "metadata": {},
   "source": [
    "|***Data Science Tools***|\n",
    "|------------------------|\n",
    "|Jupyter Labs|\n",
    "|R Studio|\n",
    "|Apache Spark|\n",
    "|Spyder|\n",
    "|Apache Zeppelin|"
   ]
  },
  {
   "cell_type": "markdown",
   "id": "405c15b7",
   "metadata": {},
   "source": [
    "### Below are a few examples of evaluating arithmetic expressions in Python\n",
    "* + \n",
    "* - \n",
    "* * \n",
    "* <"
   ]
  },
  {
   "cell_type": "code",
   "execution_count": 1,
   "id": "9c4e2683",
   "metadata": {},
   "outputs": [
    {
     "data": {
      "text/plain": [
       "17"
      ]
     },
     "execution_count": 1,
     "metadata": {},
     "output_type": "execute_result"
    }
   ],
   "source": [
    "#This a simple arithmetic expression to mutiply then add integers\n",
    "(3*4)+5"
   ]
  },
  {
   "cell_type": "code",
   "execution_count": 2,
   "id": "a7962525",
   "metadata": {},
   "outputs": [
    {
     "data": {
      "text/plain": [
       "3.3333333333333335"
      ]
     },
     "execution_count": 2,
     "metadata": {},
     "output_type": "execute_result"
    }
   ],
   "source": [
    "#This will convert 200 minutes to hours by diving by 60\n",
    "200/60"
   ]
  },
  {
   "cell_type": "markdown",
   "id": "31d3f316",
   "metadata": {},
   "source": [
    "**Objectives:**\n",
    "* The Data science task categories include Data Management, Data Integration and Transformation, Data Visualization and Modelling \n",
    "* Python, R, SQL, Scala, Java, C++, and Julia are some of the languages used in data science\n",
    "* Popular libraries are: Scikit-learn, TensorFlow, Keras, Pandas, ggplot2\n",
    "* Types of ML are Supervised, Unsupervised, and Reinforcement\n",
    "* An application programming interface (API) allows communication between two pieces of software\n",
    "* Popular IDE for data science includes Jupyter Notebook and RStudio\n",
    "* Git is one of the most popular distributed version control systems"
   ]
  },
  {
   "cell_type": "markdown",
   "id": "faa2262d",
   "metadata": {},
   "source": [
    "## Author\n",
    "Richa"
   ]
  },
  {
   "cell_type": "code",
   "execution_count": null,
   "id": "abac7744",
   "metadata": {},
   "outputs": [],
   "source": []
  }
 ],
 "metadata": {
  "kernelspec": {
   "display_name": "Python 3 (ipykernel)",
   "language": "python",
   "name": "python3"
  },
  "language_info": {
   "codemirror_mode": {
    "name": "ipython",
    "version": 3
   },
   "file_extension": ".py",
   "mimetype": "text/x-python",
   "name": "python",
   "nbconvert_exporter": "python",
   "pygments_lexer": "ipython3",
   "version": "3.8.2"
  }
 },
 "nbformat": 4,
 "nbformat_minor": 5
}
